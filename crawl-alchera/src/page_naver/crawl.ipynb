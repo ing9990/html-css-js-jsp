{
 "cells": [
  {
   "cell_type": "code",
   "execution_count": 19,
   "metadata": {
    "collapsed": true
   },
   "outputs": [],
   "source": [
    "import os\n",
    "\n",
    "import requests\n",
    "from bs4 import BeautifulSoup\n",
    "import time\n",
    "import urllib.request"
   ]
  },
  {
   "cell_type": "code",
   "execution_count": 54,
   "outputs": [
    {
     "name": "stdout",
     "output_type": "stream",
     "text": [
      "https://alchera.ai/assets/front/images/index/img_main_visual_01.png\n",
      "https://alchera.ai/assets/front/images/index/mo/img_main_visual_01_mo.png\n",
      "https://alchera.ai/assets/front/images/index/img_main_visual_01_03.png\n",
      "https://alchera.ai/assets/front/images/index/mo/img_main_visual_01_03_mo.png\n",
      "https://alchera.ai/assets/front/images/index/img_main_visual_02_01.png\n",
      "https://alchera.ai/assets/front/images/index/img_main_visual_02_02.png\n",
      "https://alchera.ai/assets/front/images/index/img_main_visual_02_03.png\n",
      "https://alchera.ai/assets/front/images/index/img_main_visual_02_04.png\n",
      "https://alchera.ai/resource/press/28e69d9ffe364ced82aa779b862b93f1.png\n",
      "https://alchera.ai/resource/press/c6315c3e4ff445088bfbccf2ca6b575a.alchera-02.png\n",
      "https://alchera.ai/resource/press/4efdb88577ca43ff98165afaf313e1d6.thumbnail-01.png\n",
      "https://alchera.ai/resource/blog/ec3940d6224e4f32aedabf6ee523f353.abc1-01.png\n",
      "https://alchera.ai/resource/press/f1f21d187bb84551aee6d37f23e51392.Thumb_0222_1.png\n",
      "https://alchera.ai/resource/press/dc9a1ccddf7a4ee1b9977c237339ca46.11123123123123-01.png\n",
      "https://alchera.ai/resource/press/371e4f0b4e1041c5ae78d4c4809edc2e.fire_01.png\n",
      "https://alchera.ai/resource/press/b5a1a41990384c1e82e4de9fde4288e4.01-01.png\n",
      "https://alchera.ai/resource/press/b41e05fffbe048a1a1d12b1effa760c7.thumbnail-01.png\n",
      "https://alchera.ai/resource/press/92b8afd5b44c4e9d9e45a43c5156796b.소방관-01.png\n",
      "https://alchera.ai/assets/front/images/company/img_logo_01.png\n",
      "https://alchera.ai/assets/front/images/company/img_logo_08.png\n",
      "https://alchera.ai/assets/front/images/company/img_logo_02.png\n",
      "https://alchera.ai/assets/front/images/company/img_logo_09.png\n",
      "https://alchera.ai/assets/front/images/company/img_logo_03.png\n",
      "https://alchera.ai/assets/front/images/company/img_logo_10.png\n",
      "https://alchera.ai/assets/front/images/company/img_logo_04.png\n",
      "https://alchera.ai/assets/front/images/company/img_logo_11.png\n",
      "https://alchera.ai/assets/front/images/company/img_logo_05.png\n",
      "https://alchera.ai/assets/front/images/company/img_logo_12.png\n",
      "https://alchera.ai/assets/front/images/company/img_logo_06.png\n",
      "https://alchera.ai/assets/front/images/company/img_logo_13.png\n",
      "https://alchera.ai/assets/front/images/company/img_logo_07.png\n",
      "https://alchera.ai/assets/front/images/company/img_logo_14.png\n",
      "https://alchera.ai/assets/front/images/logo/img_logo_11.png\n",
      "https://alchera.ai/assets/front/images/logo/img_logo_15.png\n",
      "https://alchera.ai/assets/front/images/logo/img_logo_12.png\n",
      "https://alchera.ai/assets/front/images/logo/img_logo_16.png\n",
      "https://alchera.ai/assets/front/images/logo/img_logo_21.png\n",
      "https://alchera.ai/assets/front/images/logo/img_logo_18.png\n",
      "https://alchera.ai/assets/front/images/logo/img_logo_19.png\n",
      "https://alchera.ai/assets/front/images/logo/img_logo_37.png\n",
      "https://alchera.ai/assets/front/images/logo/img_logo_38.png\n",
      "https://alchera.ai/assets/front/images/logo/img_logo_39.png\n",
      "https://alchera.ai/assets/front/images/popup/202204/pc/img_popup_220407.png\n",
      "https://alchera.ai/assets/front/images/popup/202204/mo/img_popup_220407_mo.png\n"
     ]
    }
   ],
   "source": [
    "url = \"https://alchera.ai\"\n",
    "res = requests.get(url)\n",
    "\n",
    "if res.status_code == 200:\n",
    "    html = res.text\n",
    "    soup = BeautifulSoup(html, \"html.parser\")\n",
    "    rst = soup.findAll(\"img\")\n",
    "\n",
    "    #f = open(\"..//page_naver/src\",\"w\")\n",
    "\n",
    "    for item in rst[1:]:\n",
    "        imgSrc = url\n",
    "        imgSrc += item[\"src\"]\n",
    "        print(imgSrc)\n",
    "        #f.write(os.system(\"curl\" + imgSrc))\n",
    "\n",
    "elif res.status_code == 404:\n",
    "    print(\"bad request\")\n"
   ],
   "metadata": {
    "collapsed": false,
    "pycharm": {
     "name": "#%%\n"
    }
   }
  },
  {
   "cell_type": "code",
   "execution_count": 41,
   "outputs": [
    {
     "ename": "AttributeError",
     "evalue": "'tuple' object has no attribute 'read'",
     "output_type": "error",
     "traceback": [
      "\u001B[1;31m---------------------------------------------------------------------------\u001B[0m",
      "\u001B[1;31mAttributeError\u001B[0m                            Traceback (most recent call last)",
      "\u001B[1;32m<ipython-input-41-4014452cfc85>\u001B[0m in \u001B[0;36m<module>\u001B[1;34m\u001B[0m\n\u001B[1;32m----> 1\u001B[1;33m \u001B[0murllib\u001B[0m\u001B[1;33m.\u001B[0m\u001B[0mrequest\u001B[0m\u001B[1;33m.\u001B[0m\u001B[0murlretrieve\u001B[0m\u001B[1;33m(\u001B[0m\u001B[1;34m\"https://alchera.ai/assets/front/images/index/img_main_visual_01.png\"\u001B[0m\u001B[1;33m)\u001B[0m\u001B[1;33m.\u001B[0m\u001B[0mread\u001B[0m\u001B[1;33m(\u001B[0m\u001B[1;33m)\u001B[0m\u001B[1;33m\u001B[0m\u001B[1;33m\u001B[0m\u001B[0m\n\u001B[0m",
      "\u001B[1;31mAttributeError\u001B[0m: 'tuple' object has no attribute 'read'"
     ]
    }
   ],
   "source": [],
   "metadata": {
    "collapsed": false,
    "pycharm": {
     "name": "#%%\n"
    }
   }
  },
  {
   "cell_type": "code",
   "execution_count": null,
   "outputs": [],
   "source": [],
   "metadata": {
    "collapsed": false,
    "pycharm": {
     "name": "#%%\n"
    }
   }
  }
 ],
 "metadata": {
  "kernelspec": {
   "display_name": "Python 3",
   "language": "python",
   "name": "python3"
  },
  "language_info": {
   "codemirror_mode": {
    "name": "ipython",
    "version": 2
   },
   "file_extension": ".py",
   "mimetype": "text/x-python",
   "name": "python",
   "nbconvert_exporter": "python",
   "pygments_lexer": "ipython2",
   "version": "2.7.6"
  }
 },
 "nbformat": 4,
 "nbformat_minor": 0
}